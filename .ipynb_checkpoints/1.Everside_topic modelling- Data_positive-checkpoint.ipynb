{
 "cells": [
  {
   "cell_type": "code",
   "execution_count": 26,
   "id": "e8213a42",
   "metadata": {},
   "outputs": [],
   "source": [
    "import pandas as pd\n",
    "import numpy as np"
   ]
  },
  {
   "cell_type": "code",
   "execution_count": 27,
   "id": "5ca45ebb",
   "metadata": {},
   "outputs": [],
   "source": [
    "data = pd.read_csv('apiApp_everside_nps (1).csv')"
   ]
  },
  {
   "cell_type": "code",
   "execution_count": 28,
   "id": "85d0a108",
   "metadata": {},
   "outputs": [],
   "source": [
    "data = data.fillna('')"
   ]
  },
  {
   "cell_type": "code",
   "execution_count": 29,
   "id": "377bc46f",
   "metadata": {},
   "outputs": [
    {
     "data": {
      "text/plain": [
       "(25900, 34)"
      ]
     },
     "execution_count": 29,
     "metadata": {},
     "output_type": "execute_result"
    }
   ],
   "source": [
    "data.shape"
   ]
  },
  {
   "cell_type": "code",
   "execution_count": 30,
   "id": "f8fb9203",
   "metadata": {},
   "outputs": [],
   "source": [
    "data['Reviews'] = data['REASONNPSSCORE'].astype(str)+ data['WHATDIDWELLWITHAPP'].astype(str) + data['WHATDIDNOTWELLWITHAPP'].astype(str)"
   ]
  },
  {
   "cell_type": "code",
   "execution_count": 31,
   "id": "1b3f566e",
   "metadata": {},
   "outputs": [],
   "source": [
    "data_new = data[['REVIEW_ID','MEMBER_ID','Reviews','sentiment_label']]"
   ]
  },
  {
   "cell_type": "code",
   "execution_count": 32,
   "id": "6b3611fe",
   "metadata": {},
   "outputs": [
    {
     "data": {
      "text/html": [
       "<div>\n",
       "<style scoped>\n",
       "    .dataframe tbody tr th:only-of-type {\n",
       "        vertical-align: middle;\n",
       "    }\n",
       "\n",
       "    .dataframe tbody tr th {\n",
       "        vertical-align: top;\n",
       "    }\n",
       "\n",
       "    .dataframe thead th {\n",
       "        text-align: right;\n",
       "    }\n",
       "</style>\n",
       "<table border=\"1\" class=\"dataframe\">\n",
       "  <thead>\n",
       "    <tr style=\"text-align: right;\">\n",
       "      <th></th>\n",
       "      <th>REVIEW_ID</th>\n",
       "      <th>MEMBER_ID</th>\n",
       "      <th>Reviews</th>\n",
       "      <th>sentiment_label</th>\n",
       "    </tr>\n",
       "  </thead>\n",
       "  <tbody>\n",
       "    <tr>\n",
       "      <th>0</th>\n",
       "      <td>a2p1U000000RoK0QAK</td>\n",
       "      <td>0011U00000riNolQAE</td>\n",
       "      <td>Very kind and caring.Provide comfortable seats</td>\n",
       "      <td>Positive</td>\n",
       "    </tr>\n",
       "    <tr>\n",
       "      <th>1</th>\n",
       "      <td>a2p3g000000LAe2AAG</td>\n",
       "      <td>0011U00000riuzfQAA</td>\n",
       "      <td></td>\n",
       "      <td>Neutral</td>\n",
       "    </tr>\n",
       "    <tr>\n",
       "      <th>2</th>\n",
       "      <td>a2p3g000000LAenAAG</td>\n",
       "      <td>0011U00000rieIYQAY</td>\n",
       "      <td></td>\n",
       "      <td>Neutral</td>\n",
       "    </tr>\n",
       "    <tr>\n",
       "      <th>3</th>\n",
       "      <td>a2p1U000000l8FEQAY</td>\n",
       "      <td>0011U00000rjZH9QAM</td>\n",
       "      <td>Answer all my questions</td>\n",
       "      <td>Neutral</td>\n",
       "    </tr>\n",
       "    <tr>\n",
       "      <th>4</th>\n",
       "      <td>a2p1U000000Rv9VQAS</td>\n",
       "      <td>0011U00000rjesHQAQ</td>\n",
       "      <td>I like the facility and the doctor.  I felt co...</td>\n",
       "      <td>Positive</td>\n",
       "    </tr>\n",
       "    <tr>\n",
       "      <th>...</th>\n",
       "      <td>...</td>\n",
       "      <td>...</td>\n",
       "      <td>...</td>\n",
       "      <td>...</td>\n",
       "    </tr>\n",
       "    <tr>\n",
       "      <th>25895</th>\n",
       "      <td>a2p4w000002OD9AAAW</td>\n",
       "      <td>0014w00003GGAYmAAP</td>\n",
       "      <td>The exam was thorough, educational and pleasant</td>\n",
       "      <td>Positive</td>\n",
       "    </tr>\n",
       "    <tr>\n",
       "      <th>25896</th>\n",
       "      <td>a2p4w000002OB5VAAW</td>\n",
       "      <td>0014w00003GGztMAAT</td>\n",
       "      <td>Each staff member was professional, and was ab...</td>\n",
       "      <td>Positive</td>\n",
       "    </tr>\n",
       "    <tr>\n",
       "      <th>25897</th>\n",
       "      <td>a2p4w000002O51DAAS</td>\n",
       "      <td>0014w00002pQNLkAAO</td>\n",
       "      <td></td>\n",
       "      <td>Neutral</td>\n",
       "    </tr>\n",
       "    <tr>\n",
       "      <th>25898</th>\n",
       "      <td>a2p4w000002O56SAAS</td>\n",
       "      <td>0014w000031s13zAAA</td>\n",
       "      <td>Discussed at length about my issuesNothing</td>\n",
       "      <td>Negative</td>\n",
       "    </tr>\n",
       "    <tr>\n",
       "      <th>25899</th>\n",
       "      <td>a2p4w000002OCKCAA4</td>\n",
       "      <td>0014w00003GGsbFAAT</td>\n",
       "      <td>Got me in and out during my scheduled work time</td>\n",
       "      <td>Neutral</td>\n",
       "    </tr>\n",
       "  </tbody>\n",
       "</table>\n",
       "<p>25900 rows × 4 columns</p>\n",
       "</div>"
      ],
      "text/plain": [
       "                REVIEW_ID           MEMBER_ID  \\\n",
       "0      a2p1U000000RoK0QAK  0011U00000riNolQAE   \n",
       "1      a2p3g000000LAe2AAG  0011U00000riuzfQAA   \n",
       "2      a2p3g000000LAenAAG  0011U00000rieIYQAY   \n",
       "3      a2p1U000000l8FEQAY  0011U00000rjZH9QAM   \n",
       "4      a2p1U000000Rv9VQAS  0011U00000rjesHQAQ   \n",
       "...                   ...                 ...   \n",
       "25895  a2p4w000002OD9AAAW  0014w00003GGAYmAAP   \n",
       "25896  a2p4w000002OB5VAAW  0014w00003GGztMAAT   \n",
       "25897  a2p4w000002O51DAAS  0014w00002pQNLkAAO   \n",
       "25898  a2p4w000002O56SAAS  0014w000031s13zAAA   \n",
       "25899  a2p4w000002OCKCAA4  0014w00003GGsbFAAT   \n",
       "\n",
       "                                                 Reviews sentiment_label  \n",
       "0         Very kind and caring.Provide comfortable seats        Positive  \n",
       "1                                                                Neutral  \n",
       "2                                                                Neutral  \n",
       "3                                Answer all my questions         Neutral  \n",
       "4      I like the facility and the doctor.  I felt co...        Positive  \n",
       "...                                                  ...             ...  \n",
       "25895    The exam was thorough, educational and pleasant        Positive  \n",
       "25896  Each staff member was professional, and was ab...        Positive  \n",
       "25897                                                            Neutral  \n",
       "25898         Discussed at length about my issuesNothing        Negative  \n",
       "25899    Got me in and out during my scheduled work time         Neutral  \n",
       "\n",
       "[25900 rows x 4 columns]"
      ]
     },
     "execution_count": 32,
     "metadata": {},
     "output_type": "execute_result"
    }
   ],
   "source": [
    "data_new"
   ]
  },
  {
   "cell_type": "markdown",
   "id": "62e5860d",
   "metadata": {},
   "source": [
    "## Positive data"
   ]
  },
  {
   "cell_type": "code",
   "execution_count": 33,
   "id": "cfa4602a",
   "metadata": {},
   "outputs": [
    {
     "data": {
      "text/html": [
       "<div>\n",
       "<style scoped>\n",
       "    .dataframe tbody tr th:only-of-type {\n",
       "        vertical-align: middle;\n",
       "    }\n",
       "\n",
       "    .dataframe tbody tr th {\n",
       "        vertical-align: top;\n",
       "    }\n",
       "\n",
       "    .dataframe thead th {\n",
       "        text-align: right;\n",
       "    }\n",
       "</style>\n",
       "<table border=\"1\" class=\"dataframe\">\n",
       "  <thead>\n",
       "    <tr style=\"text-align: right;\">\n",
       "      <th></th>\n",
       "      <th>REVIEW_ID</th>\n",
       "      <th>MEMBER_ID</th>\n",
       "      <th>Reviews</th>\n",
       "      <th>sentiment_label</th>\n",
       "    </tr>\n",
       "  </thead>\n",
       "  <tbody>\n",
       "    <tr>\n",
       "      <th>0</th>\n",
       "      <td>a2p1U000000RoK0QAK</td>\n",
       "      <td>0011U00000riNolQAE</td>\n",
       "      <td>Very kind and caring.Provide comfortable seats</td>\n",
       "      <td>Positive</td>\n",
       "    </tr>\n",
       "    <tr>\n",
       "      <th>4</th>\n",
       "      <td>a2p1U000000Rv9VQAS</td>\n",
       "      <td>0011U00000rjesHQAQ</td>\n",
       "      <td>I like the facility and the doctor.  I felt co...</td>\n",
       "      <td>Positive</td>\n",
       "    </tr>\n",
       "    <tr>\n",
       "      <th>5</th>\n",
       "      <td>a2p1U000000RoNbQAK</td>\n",
       "      <td>0011U00000ri84ZQAQ</td>\n",
       "      <td>Very caring staff.  Plenty of time for me to a...</td>\n",
       "      <td>Positive</td>\n",
       "    </tr>\n",
       "    <tr>\n",
       "      <th>7</th>\n",
       "      <td>a2p1U000000RoDWQA0</td>\n",
       "      <td>0011U00000riaUNQAY</td>\n",
       "      <td>dr.  was very good.  listened to my concerns, ...</td>\n",
       "      <td>Positive</td>\n",
       "    </tr>\n",
       "    <tr>\n",
       "      <th>8</th>\n",
       "      <td>a2p3g000000pHyRAAU</td>\n",
       "      <td>0011U00000riaUNQAY</td>\n",
       "      <td>Dr. Ritter answered all my questions and addre...</td>\n",
       "      <td>Positive</td>\n",
       "    </tr>\n",
       "  </tbody>\n",
       "</table>\n",
       "</div>"
      ],
      "text/plain": [
       "            REVIEW_ID           MEMBER_ID  \\\n",
       "0  a2p1U000000RoK0QAK  0011U00000riNolQAE   \n",
       "4  a2p1U000000Rv9VQAS  0011U00000rjesHQAQ   \n",
       "5  a2p1U000000RoNbQAK  0011U00000ri84ZQAQ   \n",
       "7  a2p1U000000RoDWQA0  0011U00000riaUNQAY   \n",
       "8  a2p3g000000pHyRAAU  0011U00000riaUNQAY   \n",
       "\n",
       "                                             Reviews sentiment_label  \n",
       "0     Very kind and caring.Provide comfortable seats        Positive  \n",
       "4  I like the facility and the doctor.  I felt co...        Positive  \n",
       "5  Very caring staff.  Plenty of time for me to a...        Positive  \n",
       "7  dr.  was very good.  listened to my concerns, ...        Positive  \n",
       "8  Dr. Ritter answered all my questions and addre...        Positive  "
      ]
     },
     "execution_count": 33,
     "metadata": {},
     "output_type": "execute_result"
    }
   ],
   "source": [
    "data_new = data_new[(data_new.sentiment_label==\"Positive\")]\n",
    "data_new.head()"
   ]
  },
  {
   "cell_type": "code",
   "execution_count": 34,
   "id": "7b19be8d",
   "metadata": {},
   "outputs": [
    {
     "name": "stderr",
     "output_type": "stream",
     "text": [
      "C:\\Users\\HP\\anaconda3\\lib\\site-packages\\pandas\\core\\frame.py:4524: SettingWithCopyWarning: \n",
      "A value is trying to be set on a copy of a slice from a DataFrame\n",
      "\n",
      "See the caveats in the documentation: https://pandas.pydata.org/pandas-docs/stable/user_guide/indexing.html#returning-a-view-versus-a-copy\n",
      "  return super().replace(\n"
     ]
    }
   ],
   "source": [
    "# Remove entries with no response and remove punctuations\n",
    "data_reason_score = data_new[data_new['Reviews'] != 'No Response']\n",
    "data_reason_score = data_reason_score.reset_index(drop=True)\n",
    "remove_punctuations_reason_score = data_reason_score[['Reviews']]\n",
    "remove_punctuations_reason_score.replace(\"[^a-zA-Z]\",\" \",regex=True, inplace=True)\n",
    "data_reason_score[['Reviews']] = remove_punctuations_reason_score[['Reviews']]"
   ]
  },
  {
   "cell_type": "code",
   "execution_count": 35,
   "id": "37b05d94",
   "metadata": {},
   "outputs": [],
   "source": [
    "# Removing missing values\n",
    "reason_score_reviews = data_reason_score\n",
    "reason_score_reviews = reason_score_reviews.dropna(subset=['Reviews'])\n",
    "reason_score_reviews = reason_score_reviews.reset_index(drop=True)"
   ]
  },
  {
   "cell_type": "code",
   "execution_count": 36,
   "id": "e483fd09",
   "metadata": {},
   "outputs": [],
   "source": [
    "data_reason_score = data[data['Reviews'] != 'No Response']\n",
    "data_reason_score = data_reason_score.reset_index(drop=True)\n",
    "remove_punctuations_reason_score = data_reason_score[['Reviews']]"
   ]
  },
  {
   "cell_type": "code",
   "execution_count": 37,
   "id": "2db99be3",
   "metadata": {},
   "outputs": [],
   "source": [
    "# Converting reviews to lower case\n",
    "reason_score_lower = reason_score_reviews[['Reviews']]\n",
    "reason_score_reviews['Reviews'] = reason_score_lower.applymap(str.lower)"
   ]
  },
  {
   "cell_type": "code",
   "execution_count": 38,
   "id": "4c40e76c",
   "metadata": {},
   "outputs": [
    {
     "data": {
      "text/html": [
       "<div>\n",
       "<style scoped>\n",
       "    .dataframe tbody tr th:only-of-type {\n",
       "        vertical-align: middle;\n",
       "    }\n",
       "\n",
       "    .dataframe tbody tr th {\n",
       "        vertical-align: top;\n",
       "    }\n",
       "\n",
       "    .dataframe thead th {\n",
       "        text-align: right;\n",
       "    }\n",
       "</style>\n",
       "<table border=\"1\" class=\"dataframe\">\n",
       "  <thead>\n",
       "    <tr style=\"text-align: right;\">\n",
       "      <th></th>\n",
       "      <th>REVIEW_ID</th>\n",
       "      <th>MEMBER_ID</th>\n",
       "      <th>Reviews</th>\n",
       "      <th>sentiment_label</th>\n",
       "    </tr>\n",
       "  </thead>\n",
       "  <tbody>\n",
       "    <tr>\n",
       "      <th>0</th>\n",
       "      <td>a2p1U000000RoK0QAK</td>\n",
       "      <td>0011U00000riNolQAE</td>\n",
       "      <td>very kind and caring provide comfortable seats</td>\n",
       "      <td>Positive</td>\n",
       "    </tr>\n",
       "    <tr>\n",
       "      <th>1</th>\n",
       "      <td>a2p1U000000Rv9VQAS</td>\n",
       "      <td>0011U00000rjesHQAQ</td>\n",
       "      <td>i like the facility and the doctor   i felt co...</td>\n",
       "      <td>Positive</td>\n",
       "    </tr>\n",
       "    <tr>\n",
       "      <th>2</th>\n",
       "      <td>a2p1U000000RoNbQAK</td>\n",
       "      <td>0011U00000ri84ZQAQ</td>\n",
       "      <td>very caring staff   plenty of time for me to a...</td>\n",
       "      <td>Positive</td>\n",
       "    </tr>\n",
       "    <tr>\n",
       "      <th>3</th>\n",
       "      <td>a2p1U000000RoDWQA0</td>\n",
       "      <td>0011U00000riaUNQAY</td>\n",
       "      <td>dr   was very good   listened to my concerns  ...</td>\n",
       "      <td>Positive</td>\n",
       "    </tr>\n",
       "    <tr>\n",
       "      <th>4</th>\n",
       "      <td>a2p3g000000pHyRAAU</td>\n",
       "      <td>0011U00000riaUNQAY</td>\n",
       "      <td>dr  ritter answered all my questions and addre...</td>\n",
       "      <td>Positive</td>\n",
       "    </tr>\n",
       "    <tr>\n",
       "      <th>...</th>\n",
       "      <td>...</td>\n",
       "      <td>...</td>\n",
       "      <td>...</td>\n",
       "      <td>...</td>\n",
       "    </tr>\n",
       "    <tr>\n",
       "      <th>14583</th>\n",
       "      <td>a2p4w000002ODZNAA4</td>\n",
       "      <td>0014w00002pQLCoAAO</td>\n",
       "      <td>did not see my usual doctor  but the np i was ...</td>\n",
       "      <td>Positive</td>\n",
       "    </tr>\n",
       "    <tr>\n",
       "      <th>14584</th>\n",
       "      <td>a2p4w000002O81zAAC</td>\n",
       "      <td>0014w000031qLv3AAE</td>\n",
       "      <td>everythingnothing</td>\n",
       "      <td>Positive</td>\n",
       "    </tr>\n",
       "    <tr>\n",
       "      <th>14585</th>\n",
       "      <td>a2p4w000002O8ywAAC</td>\n",
       "      <td>0014w00003GGP7EAAX</td>\n",
       "      <td>listened   no judgment   suggestions</td>\n",
       "      <td>Positive</td>\n",
       "    </tr>\n",
       "    <tr>\n",
       "      <th>14586</th>\n",
       "      <td>a2p4w000002OD9AAAW</td>\n",
       "      <td>0014w00003GGAYmAAP</td>\n",
       "      <td>the exam was thorough  educational and pleasant</td>\n",
       "      <td>Positive</td>\n",
       "    </tr>\n",
       "    <tr>\n",
       "      <th>14587</th>\n",
       "      <td>a2p4w000002OB5VAAW</td>\n",
       "      <td>0014w00003GGztMAAT</td>\n",
       "      <td>each staff member was professional  and was ab...</td>\n",
       "      <td>Positive</td>\n",
       "    </tr>\n",
       "  </tbody>\n",
       "</table>\n",
       "<p>14588 rows × 4 columns</p>\n",
       "</div>"
      ],
      "text/plain": [
       "                REVIEW_ID           MEMBER_ID  \\\n",
       "0      a2p1U000000RoK0QAK  0011U00000riNolQAE   \n",
       "1      a2p1U000000Rv9VQAS  0011U00000rjesHQAQ   \n",
       "2      a2p1U000000RoNbQAK  0011U00000ri84ZQAQ   \n",
       "3      a2p1U000000RoDWQA0  0011U00000riaUNQAY   \n",
       "4      a2p3g000000pHyRAAU  0011U00000riaUNQAY   \n",
       "...                   ...                 ...   \n",
       "14583  a2p4w000002ODZNAA4  0014w00002pQLCoAAO   \n",
       "14584  a2p4w000002O81zAAC  0014w000031qLv3AAE   \n",
       "14585  a2p4w000002O8ywAAC  0014w00003GGP7EAAX   \n",
       "14586  a2p4w000002OD9AAAW  0014w00003GGAYmAAP   \n",
       "14587  a2p4w000002OB5VAAW  0014w00003GGztMAAT   \n",
       "\n",
       "                                                 Reviews sentiment_label  \n",
       "0         very kind and caring provide comfortable seats        Positive  \n",
       "1      i like the facility and the doctor   i felt co...        Positive  \n",
       "2      very caring staff   plenty of time for me to a...        Positive  \n",
       "3      dr   was very good   listened to my concerns  ...        Positive  \n",
       "4      dr  ritter answered all my questions and addre...        Positive  \n",
       "...                                                  ...             ...  \n",
       "14583  did not see my usual doctor  but the np i was ...        Positive  \n",
       "14584                                  everythingnothing        Positive  \n",
       "14585               listened   no judgment   suggestions        Positive  \n",
       "14586    the exam was thorough  educational and pleasant        Positive  \n",
       "14587  each staff member was professional  and was ab...        Positive  \n",
       "\n",
       "[14588 rows x 4 columns]"
      ]
     },
     "execution_count": 38,
     "metadata": {},
     "output_type": "execute_result"
    }
   ],
   "source": [
    "reason_score_reviews"
   ]
  },
  {
   "cell_type": "code",
   "execution_count": 39,
   "id": "d8a9b736",
   "metadata": {},
   "outputs": [
    {
     "data": {
      "text/plain": [
       "everythingnothing                                                                                                     281\n",
       "everything                                                                                                            190\n",
       "everything                                                                                                             58\n",
       "everything nothing                                                                                                     30\n",
       "everything nothing                                                                                                     16\n",
       "                                                                                                                     ... \n",
       "everything clipart me to know why he wanted me to just shut it off  do you want me to draw a suspicious                 1\n",
       "appointment was on time  staff and dr always friendly                                                                   1\n",
       "better personal attention                                                                                               1\n",
       "love the dr  she takes time and cb lustens                                                                              1\n",
       "very kind and easy to work with  everyone takes the extra time to listen and care asked the right questionsnothing      1\n",
       "Name: Reviews, Length: 13771, dtype: int64"
      ]
     },
     "execution_count": 39,
     "metadata": {},
     "output_type": "execute_result"
    }
   ],
   "source": [
    "reason_score_reviews['Reviews'].value_counts()"
   ]
  },
  {
   "cell_type": "code",
   "execution_count": 40,
   "id": "0a7754cb",
   "metadata": {},
   "outputs": [],
   "source": [
    "reason_score_reviews.to_csv('Positive_Data.csv',index = False)"
   ]
  },
  {
   "cell_type": "code",
   "execution_count": null,
   "id": "f61a69cd",
   "metadata": {},
   "outputs": [],
   "source": []
  }
 ],
 "metadata": {
  "kernelspec": {
   "display_name": "Python 3 (ipykernel)",
   "language": "python",
   "name": "python3"
  },
  "language_info": {
   "codemirror_mode": {
    "name": "ipython",
    "version": 3
   },
   "file_extension": ".py",
   "mimetype": "text/x-python",
   "name": "python",
   "nbconvert_exporter": "python",
   "pygments_lexer": "ipython3",
   "version": "3.9.7"
  }
 },
 "nbformat": 4,
 "nbformat_minor": 5
}
