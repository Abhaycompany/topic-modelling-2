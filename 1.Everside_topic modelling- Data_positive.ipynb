{
 "cells": [
  {
   "cell_type": "code",
   "execution_count": 1,
   "id": "e8213a42",
   "metadata": {},
   "outputs": [],
   "source": [
    "import pandas as pd\n",
    "import numpy as np\n",
    "import warnings\n",
    "warnings.filterwarnings('ignore')"
   ]
  },
  {
   "cell_type": "code",
   "execution_count": 2,
   "id": "5ca45ebb",
   "metadata": {},
   "outputs": [],
   "source": [
    "data = pd.read_csv('final.csv')"
   ]
  },
  {
   "cell_type": "code",
   "execution_count": 3,
   "id": "85d0a108",
   "metadata": {},
   "outputs": [],
   "source": [
    "data = data.fillna('')"
   ]
  },
  {
   "cell_type": "code",
   "execution_count": 4,
   "id": "377bc46f",
   "metadata": {},
   "outputs": [
    {
     "data": {
      "text/plain": [
       "(29741, 108)"
      ]
     },
     "execution_count": 4,
     "metadata": {},
     "output_type": "execute_result"
    }
   ],
   "source": [
    "data.shape"
   ]
  },
  {
   "cell_type": "code",
   "execution_count": 5,
   "id": "f8fb9203",
   "metadata": {},
   "outputs": [],
   "source": [
    "data['Reviews'] = data['REASONNPSSCORE__C'].astype(str)+ data['WHATDIDWELLWITHAPP__C'].astype(str) + data['WHATDIDNOTWELLWITHAPP__C'].astype(str)"
   ]
  },
  {
   "cell_type": "code",
   "execution_count": 6,
   "id": "1b3f566e",
   "metadata": {},
   "outputs": [],
   "source": [
    "data_new = data[['REVIEW_ID','MEMBER_ID','Reviews','sentiment_label']]"
   ]
  },
  {
   "cell_type": "code",
   "execution_count": 7,
   "id": "6b3611fe",
   "metadata": {},
   "outputs": [
    {
     "data": {
      "text/html": [
       "<div>\n",
       "<style scoped>\n",
       "    .dataframe tbody tr th:only-of-type {\n",
       "        vertical-align: middle;\n",
       "    }\n",
       "\n",
       "    .dataframe tbody tr th {\n",
       "        vertical-align: top;\n",
       "    }\n",
       "\n",
       "    .dataframe thead th {\n",
       "        text-align: right;\n",
       "    }\n",
       "</style>\n",
       "<table border=\"1\" class=\"dataframe\">\n",
       "  <thead>\n",
       "    <tr style=\"text-align: right;\">\n",
       "      <th></th>\n",
       "      <th>REVIEW_ID</th>\n",
       "      <th>MEMBER_ID</th>\n",
       "      <th>Reviews</th>\n",
       "      <th>sentiment_label</th>\n",
       "    </tr>\n",
       "  </thead>\n",
       "  <tbody>\n",
       "    <tr>\n",
       "      <th>0</th>\n",
       "      <td>a2p1U000000RoK0QAK</td>\n",
       "      <td>0011U00000riNolQAE</td>\n",
       "      <td>Very kind and caring.Provide comfortable seats</td>\n",
       "      <td>Positive</td>\n",
       "    </tr>\n",
       "    <tr>\n",
       "      <th>1</th>\n",
       "      <td>a2p3g000000LAe2AAG</td>\n",
       "      <td>0011U00000riuzfQAA</td>\n",
       "      <td></td>\n",
       "      <td>Neutral</td>\n",
       "    </tr>\n",
       "    <tr>\n",
       "      <th>2</th>\n",
       "      <td>a2p3g000000LAenAAG</td>\n",
       "      <td>0011U00000rieIYQAY</td>\n",
       "      <td></td>\n",
       "      <td>Neutral</td>\n",
       "    </tr>\n",
       "    <tr>\n",
       "      <th>3</th>\n",
       "      <td>a2p1U000000l8FEQAY</td>\n",
       "      <td>0011U00000rjZH9QAM</td>\n",
       "      <td>Answer all my questions</td>\n",
       "      <td>Neutral</td>\n",
       "    </tr>\n",
       "    <tr>\n",
       "      <th>4</th>\n",
       "      <td>a2p1U000000Rv9VQAS</td>\n",
       "      <td>0011U00000rjesHQAQ</td>\n",
       "      <td>I like the facility and the doctor.  I felt co...</td>\n",
       "      <td>Positive</td>\n",
       "    </tr>\n",
       "    <tr>\n",
       "      <th>...</th>\n",
       "      <td>...</td>\n",
       "      <td>...</td>\n",
       "      <td>...</td>\n",
       "      <td>...</td>\n",
       "    </tr>\n",
       "    <tr>\n",
       "      <th>29736</th>\n",
       "      <td>a2p4w000002OHKlAAO</td>\n",
       "      <td>0014w00003GFTtkAAH</td>\n",
       "      <td>The convenience was wonderful. The Doc didn't ...</td>\n",
       "      <td>Positive</td>\n",
       "    </tr>\n",
       "    <tr>\n",
       "      <th>29737</th>\n",
       "      <td>a2p4w000002OHKMAA4</td>\n",
       "      <td>0014w00003GEk6SAAT</td>\n",
       "      <td>Short to the point</td>\n",
       "      <td>Neutral</td>\n",
       "    </tr>\n",
       "    <tr>\n",
       "      <th>29738</th>\n",
       "      <td>a2p4w000002OHJdAAO</td>\n",
       "      <td>0014w00003GG8OTAA1</td>\n",
       "      <td>Dr. Theobald is great. All the staff there is ...</td>\n",
       "      <td>Negative</td>\n",
       "    </tr>\n",
       "    <tr>\n",
       "      <th>29739</th>\n",
       "      <td>a2p4w000002OHKvAAO</td>\n",
       "      <td>0014w00003GEGN1AAP</td>\n",
       "      <td>I really like Jennifer and her approach on hea...</td>\n",
       "      <td>Positive</td>\n",
       "    </tr>\n",
       "    <tr>\n",
       "      <th>29740</th>\n",
       "      <td>a2p4w000002OHMmAAO</td>\n",
       "      <td>0014w00003GEDmCAAX</td>\n",
       "      <td></td>\n",
       "      <td>Neutral</td>\n",
       "    </tr>\n",
       "  </tbody>\n",
       "</table>\n",
       "<p>29741 rows × 4 columns</p>\n",
       "</div>"
      ],
      "text/plain": [
       "                REVIEW_ID           MEMBER_ID  \\\n",
       "0      a2p1U000000RoK0QAK  0011U00000riNolQAE   \n",
       "1      a2p3g000000LAe2AAG  0011U00000riuzfQAA   \n",
       "2      a2p3g000000LAenAAG  0011U00000rieIYQAY   \n",
       "3      a2p1U000000l8FEQAY  0011U00000rjZH9QAM   \n",
       "4      a2p1U000000Rv9VQAS  0011U00000rjesHQAQ   \n",
       "...                   ...                 ...   \n",
       "29736  a2p4w000002OHKlAAO  0014w00003GFTtkAAH   \n",
       "29737  a2p4w000002OHKMAA4  0014w00003GEk6SAAT   \n",
       "29738  a2p4w000002OHJdAAO  0014w00003GG8OTAA1   \n",
       "29739  a2p4w000002OHKvAAO  0014w00003GEGN1AAP   \n",
       "29740  a2p4w000002OHMmAAO  0014w00003GEDmCAAX   \n",
       "\n",
       "                                                 Reviews sentiment_label  \n",
       "0         Very kind and caring.Provide comfortable seats        Positive  \n",
       "1                                                                Neutral  \n",
       "2                                                                Neutral  \n",
       "3                                Answer all my questions         Neutral  \n",
       "4      I like the facility and the doctor.  I felt co...        Positive  \n",
       "...                                                  ...             ...  \n",
       "29736  The convenience was wonderful. The Doc didn't ...        Positive  \n",
       "29737                                 Short to the point         Neutral  \n",
       "29738  Dr. Theobald is great. All the staff there is ...        Negative  \n",
       "29739  I really like Jennifer and her approach on hea...        Positive  \n",
       "29740                                                            Neutral  \n",
       "\n",
       "[29741 rows x 4 columns]"
      ]
     },
     "execution_count": 7,
     "metadata": {},
     "output_type": "execute_result"
    }
   ],
   "source": [
    "data_new"
   ]
  },
  {
   "cell_type": "markdown",
   "id": "62e5860d",
   "metadata": {},
   "source": [
    "## Positive data"
   ]
  },
  {
   "cell_type": "code",
   "execution_count": 8,
   "id": "cfa4602a",
   "metadata": {},
   "outputs": [
    {
     "data": {
      "text/html": [
       "<div>\n",
       "<style scoped>\n",
       "    .dataframe tbody tr th:only-of-type {\n",
       "        vertical-align: middle;\n",
       "    }\n",
       "\n",
       "    .dataframe tbody tr th {\n",
       "        vertical-align: top;\n",
       "    }\n",
       "\n",
       "    .dataframe thead th {\n",
       "        text-align: right;\n",
       "    }\n",
       "</style>\n",
       "<table border=\"1\" class=\"dataframe\">\n",
       "  <thead>\n",
       "    <tr style=\"text-align: right;\">\n",
       "      <th></th>\n",
       "      <th>REVIEW_ID</th>\n",
       "      <th>MEMBER_ID</th>\n",
       "      <th>Reviews</th>\n",
       "      <th>sentiment_label</th>\n",
       "    </tr>\n",
       "  </thead>\n",
       "  <tbody>\n",
       "    <tr>\n",
       "      <th>0</th>\n",
       "      <td>a2p1U000000RoK0QAK</td>\n",
       "      <td>0011U00000riNolQAE</td>\n",
       "      <td>Very kind and caring.Provide comfortable seats</td>\n",
       "      <td>Positive</td>\n",
       "    </tr>\n",
       "    <tr>\n",
       "      <th>4</th>\n",
       "      <td>a2p1U000000Rv9VQAS</td>\n",
       "      <td>0011U00000rjesHQAQ</td>\n",
       "      <td>I like the facility and the doctor.  I felt co...</td>\n",
       "      <td>Positive</td>\n",
       "    </tr>\n",
       "    <tr>\n",
       "      <th>5</th>\n",
       "      <td>a2p1U000000RoNbQAK</td>\n",
       "      <td>0011U00000ri84ZQAQ</td>\n",
       "      <td>Very caring staff.  Plenty of time for me to a...</td>\n",
       "      <td>Positive</td>\n",
       "    </tr>\n",
       "    <tr>\n",
       "      <th>7</th>\n",
       "      <td>a2p1U000000RoDWQA0</td>\n",
       "      <td>0011U00000riaUNQAY</td>\n",
       "      <td>dr.  was very good.  listened to my concerns, ...</td>\n",
       "      <td>Positive</td>\n",
       "    </tr>\n",
       "    <tr>\n",
       "      <th>8</th>\n",
       "      <td>a2p3g000000pHyRAAU</td>\n",
       "      <td>0011U00000riaUNQAY</td>\n",
       "      <td>Dr. Ritter answered all my questions and addre...</td>\n",
       "      <td>Positive</td>\n",
       "    </tr>\n",
       "  </tbody>\n",
       "</table>\n",
       "</div>"
      ],
      "text/plain": [
       "            REVIEW_ID           MEMBER_ID  \\\n",
       "0  a2p1U000000RoK0QAK  0011U00000riNolQAE   \n",
       "4  a2p1U000000Rv9VQAS  0011U00000rjesHQAQ   \n",
       "5  a2p1U000000RoNbQAK  0011U00000ri84ZQAQ   \n",
       "7  a2p1U000000RoDWQA0  0011U00000riaUNQAY   \n",
       "8  a2p3g000000pHyRAAU  0011U00000riaUNQAY   \n",
       "\n",
       "                                             Reviews sentiment_label  \n",
       "0     Very kind and caring.Provide comfortable seats        Positive  \n",
       "4  I like the facility and the doctor.  I felt co...        Positive  \n",
       "5  Very caring staff.  Plenty of time for me to a...        Positive  \n",
       "7  dr.  was very good.  listened to my concerns, ...        Positive  \n",
       "8  Dr. Ritter answered all my questions and addre...        Positive  "
      ]
     },
     "execution_count": 8,
     "metadata": {},
     "output_type": "execute_result"
    }
   ],
   "source": [
    "data_new = data_new[(data_new.sentiment_label==\"Positive\")]\n",
    "data_new.head()"
   ]
  },
  {
   "cell_type": "code",
   "execution_count": 9,
   "id": "7b19be8d",
   "metadata": {},
   "outputs": [],
   "source": [
    "# Remove entries with no response and remove punctuations\n",
    "data_reason_score = data_new[data_new['Reviews'] != 'No Response']\n",
    "data_reason_score = data_reason_score.reset_index(drop=True)\n",
    "remove_punctuations_reason_score = data_reason_score[['Reviews']]\n",
    "remove_punctuations_reason_score.replace(\"[^a-zA-Z]\",\" \",regex=True, inplace=True)\n",
    "data_reason_score[['Reviews']] = remove_punctuations_reason_score[['Reviews']]"
   ]
  },
  {
   "cell_type": "code",
   "execution_count": 10,
   "id": "37b05d94",
   "metadata": {},
   "outputs": [],
   "source": [
    "# Removing missing values\n",
    "reason_score_reviews = data_reason_score\n",
    "reason_score_reviews = reason_score_reviews.dropna(subset=['Reviews'])\n",
    "reason_score_reviews = reason_score_reviews.reset_index(drop=True)"
   ]
  },
  {
   "cell_type": "code",
   "execution_count": 11,
   "id": "e483fd09",
   "metadata": {},
   "outputs": [],
   "source": [
    "data_reason_score = data[data['Reviews'] != 'No Response']\n",
    "data_reason_score = data_reason_score.reset_index(drop=True)\n",
    "remove_punctuations_reason_score = data_reason_score[['Reviews']]"
   ]
  },
  {
   "cell_type": "code",
   "execution_count": 12,
   "id": "2db99be3",
   "metadata": {},
   "outputs": [],
   "source": [
    "# Converting reviews to lower case\n",
    "reason_score_lower = reason_score_reviews[['Reviews']]\n",
    "reason_score_reviews['Reviews'] = reason_score_lower.applymap(str.lower)"
   ]
  },
  {
   "cell_type": "code",
   "execution_count": 13,
   "id": "4c40e76c",
   "metadata": {},
   "outputs": [
    {
     "data": {
      "text/html": [
       "<div>\n",
       "<style scoped>\n",
       "    .dataframe tbody tr th:only-of-type {\n",
       "        vertical-align: middle;\n",
       "    }\n",
       "\n",
       "    .dataframe tbody tr th {\n",
       "        vertical-align: top;\n",
       "    }\n",
       "\n",
       "    .dataframe thead th {\n",
       "        text-align: right;\n",
       "    }\n",
       "</style>\n",
       "<table border=\"1\" class=\"dataframe\">\n",
       "  <thead>\n",
       "    <tr style=\"text-align: right;\">\n",
       "      <th></th>\n",
       "      <th>REVIEW_ID</th>\n",
       "      <th>MEMBER_ID</th>\n",
       "      <th>Reviews</th>\n",
       "      <th>sentiment_label</th>\n",
       "    </tr>\n",
       "  </thead>\n",
       "  <tbody>\n",
       "    <tr>\n",
       "      <th>0</th>\n",
       "      <td>a2p1U000000RoK0QAK</td>\n",
       "      <td>0011U00000riNolQAE</td>\n",
       "      <td>very kind and caring provide comfortable seats</td>\n",
       "      <td>Positive</td>\n",
       "    </tr>\n",
       "    <tr>\n",
       "      <th>1</th>\n",
       "      <td>a2p1U000000Rv9VQAS</td>\n",
       "      <td>0011U00000rjesHQAQ</td>\n",
       "      <td>i like the facility and the doctor   i felt co...</td>\n",
       "      <td>Positive</td>\n",
       "    </tr>\n",
       "    <tr>\n",
       "      <th>2</th>\n",
       "      <td>a2p1U000000RoNbQAK</td>\n",
       "      <td>0011U00000ri84ZQAQ</td>\n",
       "      <td>very caring staff   plenty of time for me to a...</td>\n",
       "      <td>Positive</td>\n",
       "    </tr>\n",
       "    <tr>\n",
       "      <th>3</th>\n",
       "      <td>a2p1U000000RoDWQA0</td>\n",
       "      <td>0011U00000riaUNQAY</td>\n",
       "      <td>dr   was very good   listened to my concerns  ...</td>\n",
       "      <td>Positive</td>\n",
       "    </tr>\n",
       "    <tr>\n",
       "      <th>4</th>\n",
       "      <td>a2p3g000000pHyRAAU</td>\n",
       "      <td>0011U00000riaUNQAY</td>\n",
       "      <td>dr  ritter answered all my questions and addre...</td>\n",
       "      <td>Positive</td>\n",
       "    </tr>\n",
       "    <tr>\n",
       "      <th>...</th>\n",
       "      <td>...</td>\n",
       "      <td>...</td>\n",
       "      <td>...</td>\n",
       "      <td>...</td>\n",
       "    </tr>\n",
       "    <tr>\n",
       "      <th>16647</th>\n",
       "      <td>a2p4w000002OHJ4AAO</td>\n",
       "      <td>0014w00002pPaNiAAK</td>\n",
       "      <td>the doctor took the time to explain my test re...</td>\n",
       "      <td>Positive</td>\n",
       "    </tr>\n",
       "    <tr>\n",
       "      <th>16648</th>\n",
       "      <td>a2p4w000002OHLeAAO</td>\n",
       "      <td>0014w000031rRpHAAU</td>\n",
       "      <td>answered my questions and concerns  took blood...</td>\n",
       "      <td>Positive</td>\n",
       "    </tr>\n",
       "    <tr>\n",
       "      <th>16649</th>\n",
       "      <td>a2p4w000002OHMNAA4</td>\n",
       "      <td>0014w000031pqJNAAY</td>\n",
       "      <td>the staff was very courteous  informative  pro...</td>\n",
       "      <td>Positive</td>\n",
       "    </tr>\n",
       "    <tr>\n",
       "      <th>16650</th>\n",
       "      <td>a2p4w000002OHKlAAO</td>\n",
       "      <td>0014w00003GFTtkAAH</td>\n",
       "      <td>the convenience was wonderful  the doc didn t ...</td>\n",
       "      <td>Positive</td>\n",
       "    </tr>\n",
       "    <tr>\n",
       "      <th>16651</th>\n",
       "      <td>a2p4w000002OHKvAAO</td>\n",
       "      <td>0014w00003GEGN1AAP</td>\n",
       "      <td>i really like jennifer and her approach on hea...</td>\n",
       "      <td>Positive</td>\n",
       "    </tr>\n",
       "  </tbody>\n",
       "</table>\n",
       "<p>16652 rows × 4 columns</p>\n",
       "</div>"
      ],
      "text/plain": [
       "                REVIEW_ID           MEMBER_ID  \\\n",
       "0      a2p1U000000RoK0QAK  0011U00000riNolQAE   \n",
       "1      a2p1U000000Rv9VQAS  0011U00000rjesHQAQ   \n",
       "2      a2p1U000000RoNbQAK  0011U00000ri84ZQAQ   \n",
       "3      a2p1U000000RoDWQA0  0011U00000riaUNQAY   \n",
       "4      a2p3g000000pHyRAAU  0011U00000riaUNQAY   \n",
       "...                   ...                 ...   \n",
       "16647  a2p4w000002OHJ4AAO  0014w00002pPaNiAAK   \n",
       "16648  a2p4w000002OHLeAAO  0014w000031rRpHAAU   \n",
       "16649  a2p4w000002OHMNAA4  0014w000031pqJNAAY   \n",
       "16650  a2p4w000002OHKlAAO  0014w00003GFTtkAAH   \n",
       "16651  a2p4w000002OHKvAAO  0014w00003GEGN1AAP   \n",
       "\n",
       "                                                 Reviews sentiment_label  \n",
       "0         very kind and caring provide comfortable seats        Positive  \n",
       "1      i like the facility and the doctor   i felt co...        Positive  \n",
       "2      very caring staff   plenty of time for me to a...        Positive  \n",
       "3      dr   was very good   listened to my concerns  ...        Positive  \n",
       "4      dr  ritter answered all my questions and addre...        Positive  \n",
       "...                                                  ...             ...  \n",
       "16647  the doctor took the time to explain my test re...        Positive  \n",
       "16648  answered my questions and concerns  took blood...        Positive  \n",
       "16649  the staff was very courteous  informative  pro...        Positive  \n",
       "16650  the convenience was wonderful  the doc didn t ...        Positive  \n",
       "16651  i really like jennifer and her approach on hea...        Positive  \n",
       "\n",
       "[16652 rows x 4 columns]"
      ]
     },
     "execution_count": 13,
     "metadata": {},
     "output_type": "execute_result"
    }
   ],
   "source": [
    "reason_score_reviews"
   ]
  },
  {
   "cell_type": "code",
   "execution_count": 14,
   "id": "d8a9b736",
   "metadata": {},
   "outputs": [
    {
     "data": {
      "text/plain": [
       "everythingnothing                                                                                           323\n",
       "everything                                                                                                  209\n",
       "everything                                                                                                   64\n",
       "everything nothing                                                                                           32\n",
       "everything nothing                                                                                           17\n",
       "                                                                                                           ... \n",
       "i love dr  johnson and am going to miss her  she is so very responsive to me and very on top of my care       1\n",
       "dr davidson and staff really care about my well being and strive to help me stay healthy                      1\n",
       "dr davidson listens to me  and helps me make decisions that will benefit me                                   1\n",
       "very courteous  attentiveness to patient  knowledgeable and very professionalnothing                          1\n",
       "i really like jennifer and her approach on healthall of the abovenothing                                      1\n",
       "Name: Reviews, Length: 15714, dtype: int64"
      ]
     },
     "execution_count": 14,
     "metadata": {},
     "output_type": "execute_result"
    }
   ],
   "source": [
    "reason_score_reviews['Reviews'].value_counts()"
   ]
  },
  {
   "cell_type": "code",
   "execution_count": 15,
   "id": "0a7754cb",
   "metadata": {},
   "outputs": [],
   "source": [
    "reason_score_reviews.to_csv('Positive_Data.csv',index = False)"
   ]
  },
  {
   "cell_type": "code",
   "execution_count": null,
   "id": "f61a69cd",
   "metadata": {},
   "outputs": [],
   "source": []
  }
 ],
 "metadata": {
  "kernelspec": {
   "display_name": "Python 3 (ipykernel)",
   "language": "python",
   "name": "python3"
  },
  "language_info": {
   "codemirror_mode": {
    "name": "ipython",
    "version": 3
   },
   "file_extension": ".py",
   "mimetype": "text/x-python",
   "name": "python",
   "nbconvert_exporter": "python",
   "pygments_lexer": "ipython3",
   "version": "3.9.7"
  }
 },
 "nbformat": 4,
 "nbformat_minor": 5
}
