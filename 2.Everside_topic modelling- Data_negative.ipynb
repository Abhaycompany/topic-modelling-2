{
 "cells": [
  {
   "cell_type": "code",
   "execution_count": 2,
   "id": "e8213a42",
   "metadata": {},
   "outputs": [],
   "source": [
    "import pandas as pd\n",
    "import numpy as np"
   ]
  },
  {
   "cell_type": "code",
   "execution_count": 3,
   "id": "5ca45ebb",
   "metadata": {},
   "outputs": [
    {
     "name": "stderr",
     "output_type": "stream",
     "text": [
      "C:\\Users\\ADMIN\\anaconda3\\lib\\site-packages\\IPython\\core\\interactiveshell.py:3444: DtypeWarning: Columns (3,6,33,34,35,106,107) have mixed types.Specify dtype option on import or set low_memory=False.\n",
      "  exec(code_obj, self.user_global_ns, self.user_ns)\n"
     ]
    }
   ],
   "source": [
    "data = pd.read_csv('final.csv')"
   ]
  },
  {
   "cell_type": "code",
   "execution_count": 4,
   "id": "85d0a108",
   "metadata": {},
   "outputs": [],
   "source": [
    "data = data.fillna('')"
   ]
  },
  {
   "cell_type": "code",
   "execution_count": 5,
   "id": "377bc46f",
   "metadata": {},
   "outputs": [
    {
     "data": {
      "text/plain": [
       "(29741, 108)"
      ]
     },
     "execution_count": 5,
     "metadata": {},
     "output_type": "execute_result"
    }
   ],
   "source": [
    "data.shape"
   ]
  },
  {
   "cell_type": "code",
   "execution_count": 6,
   "id": "9d2aa2df",
   "metadata": {},
   "outputs": [
    {
     "name": "stderr",
     "output_type": "stream",
     "text": [
      "C:\\Users\\ADMIN\\AppData\\Local\\Temp/ipykernel_2104/2645896183.py:1: PerformanceWarning: DataFrame is highly fragmented.  This is usually the result of calling `frame.insert` many times, which has poor performance.  Consider joining all columns at once using pd.concat(axis=1) instead.  To get a de-fragmented frame, use `newframe = frame.copy()`\n",
      "  data['Reviews'] = data['REASONNPSSCORE__C'].astype(str)+ data['WHATDIDWELLWITHAPP__C'].astype(str) + data['WHATDIDNOTWELLWITHAPP__C'].astype(str)\n"
     ]
    }
   ],
   "source": [
    "data['Reviews'] = data['REASONNPSSCORE__C'].astype(str)+ data['WHATDIDWELLWITHAPP__C'].astype(str) + data['WHATDIDNOTWELLWITHAPP__C'].astype(str)"
   ]
  },
  {
   "cell_type": "code",
   "execution_count": 7,
   "id": "1b3f566e",
   "metadata": {},
   "outputs": [],
   "source": [
    "data_new = data[['REVIEW_ID','MEMBER_ID','Reviews','sentiment_label']]"
   ]
  },
  {
   "cell_type": "code",
   "execution_count": 9,
   "id": "6b3611fe",
   "metadata": {},
   "outputs": [
    {
     "data": {
      "text/plain": [
       "Positive    16652\n",
       "Neutral     10739\n",
       "Negative     2312\n",
       "Extreme        38\n",
       "Name: sentiment_label, dtype: int64"
      ]
     },
     "execution_count": 9,
     "metadata": {},
     "output_type": "execute_result"
    }
   ],
   "source": [
    "data_new['sentiment_label'].value_counts()"
   ]
  },
  {
   "cell_type": "markdown",
   "id": "62e5860d",
   "metadata": {},
   "source": [
    "## Negative data"
   ]
  },
  {
   "cell_type": "code",
   "execution_count": 10,
   "id": "29e94fc4",
   "metadata": {},
   "outputs": [
    {
     "name": "stderr",
     "output_type": "stream",
     "text": [
      "C:\\Users\\ADMIN\\AppData\\Local\\Temp/ipykernel_2104/2936093462.py:1: SettingWithCopyWarning: \n",
      "A value is trying to be set on a copy of a slice from a DataFrame.\n",
      "Try using .loc[row_indexer,col_indexer] = value instead\n",
      "\n",
      "See the caveats in the documentation: https://pandas.pydata.org/pandas-docs/stable/user_guide/indexing.html#returning-a-view-versus-a-copy\n",
      "  data_new['sentiment_label'] = data_new['sentiment_label'].replace('Extreme','Negative')\n"
     ]
    }
   ],
   "source": [
    "data_new['sentiment_label'] = data_new['sentiment_label'].replace('Extreme','Negative')"
   ]
  },
  {
   "cell_type": "code",
   "execution_count": 19,
   "id": "c4e7628e",
   "metadata": {},
   "outputs": [
    {
     "data": {
      "text/plain": [
       "Negative    2350\n",
       "Name: sentiment_label, dtype: int64"
      ]
     },
     "execution_count": 19,
     "metadata": {},
     "output_type": "execute_result"
    }
   ],
   "source": [
    "data_new['sentiment_label'].value_counts()"
   ]
  },
  {
   "cell_type": "code",
   "execution_count": 11,
   "id": "cfa4602a",
   "metadata": {},
   "outputs": [
    {
     "data": {
      "text/html": [
       "<div>\n",
       "<style scoped>\n",
       "    .dataframe tbody tr th:only-of-type {\n",
       "        vertical-align: middle;\n",
       "    }\n",
       "\n",
       "    .dataframe tbody tr th {\n",
       "        vertical-align: top;\n",
       "    }\n",
       "\n",
       "    .dataframe thead th {\n",
       "        text-align: right;\n",
       "    }\n",
       "</style>\n",
       "<table border=\"1\" class=\"dataframe\">\n",
       "  <thead>\n",
       "    <tr style=\"text-align: right;\">\n",
       "      <th></th>\n",
       "      <th>REVIEW_ID</th>\n",
       "      <th>MEMBER_ID</th>\n",
       "      <th>Reviews</th>\n",
       "      <th>sentiment_label</th>\n",
       "    </tr>\n",
       "  </thead>\n",
       "  <tbody>\n",
       "    <tr>\n",
       "      <th>9</th>\n",
       "      <td>a2p1U000000Ro7KQAS</td>\n",
       "      <td>0011U00000rjF6eQAE</td>\n",
       "      <td>Everything.!!!dr gray listened and offered fee...</td>\n",
       "      <td>Negative</td>\n",
       "    </tr>\n",
       "    <tr>\n",
       "      <th>17</th>\n",
       "      <td>a2p3g000000L0RrAAK</td>\n",
       "      <td>0011U00000riHDHQA2</td>\n",
       "      <td>Friendly and professional staff.clean and calm...</td>\n",
       "      <td>Negative</td>\n",
       "    </tr>\n",
       "    <tr>\n",
       "      <th>24</th>\n",
       "      <td>a2p1U000000RoGYQA0</td>\n",
       "      <td>0011U00000rjxhBQAQ</td>\n",
       "      <td>I love that my doctor spends time with me and ...</td>\n",
       "      <td>Negative</td>\n",
       "    </tr>\n",
       "    <tr>\n",
       "      <th>28</th>\n",
       "      <td>a2p1U000000Rot5QAC</td>\n",
       "      <td>0011U00000rk4ksQAA</td>\n",
       "      <td>Went in to have eye checked for possible corne...</td>\n",
       "      <td>Negative</td>\n",
       "    </tr>\n",
       "    <tr>\n",
       "      <th>30</th>\n",
       "      <td>a2p1U000000Ro5gQAC</td>\n",
       "      <td>0011U00000ri0GGQAY</td>\n",
       "      <td>Addressed all my issues and concerns.N/a</td>\n",
       "      <td>Negative</td>\n",
       "    </tr>\n",
       "  </tbody>\n",
       "</table>\n",
       "</div>"
      ],
      "text/plain": [
       "             REVIEW_ID           MEMBER_ID  \\\n",
       "9   a2p1U000000Ro7KQAS  0011U00000rjF6eQAE   \n",
       "17  a2p3g000000L0RrAAK  0011U00000riHDHQA2   \n",
       "24  a2p1U000000RoGYQA0  0011U00000rjxhBQAQ   \n",
       "28  a2p1U000000Rot5QAC  0011U00000rk4ksQAA   \n",
       "30  a2p1U000000Ro5gQAC  0011U00000ri0GGQAY   \n",
       "\n",
       "                                              Reviews sentiment_label  \n",
       "9   Everything.!!!dr gray listened and offered fee...        Negative  \n",
       "17  Friendly and professional staff.clean and calm...        Negative  \n",
       "24  I love that my doctor spends time with me and ...        Negative  \n",
       "28  Went in to have eye checked for possible corne...        Negative  \n",
       "30           Addressed all my issues and concerns.N/a        Negative  "
      ]
     },
     "execution_count": 11,
     "metadata": {},
     "output_type": "execute_result"
    }
   ],
   "source": [
    "data_new = data_new[(data_new.sentiment_label==\"Negative\")]\n",
    "data_new.head()"
   ]
  },
  {
   "cell_type": "code",
   "execution_count": 12,
   "id": "7b19be8d",
   "metadata": {},
   "outputs": [
    {
     "name": "stderr",
     "output_type": "stream",
     "text": [
      "C:\\Users\\ADMIN\\anaconda3\\lib\\site-packages\\pandas\\core\\frame.py:5238: SettingWithCopyWarning: \n",
      "A value is trying to be set on a copy of a slice from a DataFrame\n",
      "\n",
      "See the caveats in the documentation: https://pandas.pydata.org/pandas-docs/stable/user_guide/indexing.html#returning-a-view-versus-a-copy\n",
      "  return super().replace(\n"
     ]
    }
   ],
   "source": [
    "# Remove entries with no response and remove punctuations\n",
    "data_reason_score = data_new[data_new['Reviews'] != 'No Response']\n",
    "data_reason_score = data_reason_score.reset_index(drop=True)\n",
    "remove_punctuations_reason_score = data_reason_score[['Reviews']]\n",
    "remove_punctuations_reason_score.replace(\"[^a-zA-Z]\",\" \",regex=True, inplace=True)\n",
    "data_reason_score[['Reviews']] = remove_punctuations_reason_score[['Reviews']]"
   ]
  },
  {
   "cell_type": "code",
   "execution_count": 13,
   "id": "37b05d94",
   "metadata": {},
   "outputs": [],
   "source": [
    "# Removing missing values\n",
    "reason_score_reviews = data_reason_score\n",
    "reason_score_reviews = reason_score_reviews.dropna(subset=['Reviews'])\n",
    "reason_score_reviews = reason_score_reviews.reset_index(drop=True)"
   ]
  },
  {
   "cell_type": "code",
   "execution_count": 14,
   "id": "e483fd09",
   "metadata": {},
   "outputs": [],
   "source": [
    "data_reason_score = data[data['Reviews'] != 'No Response']\n",
    "data_reason_score = data_reason_score.reset_index(drop=True)\n",
    "remove_punctuations_reason_score = data_reason_score[['Reviews']]"
   ]
  },
  {
   "cell_type": "code",
   "execution_count": 15,
   "id": "2db99be3",
   "metadata": {},
   "outputs": [],
   "source": [
    "# Converting reviews to lower case\n",
    "reason_score_lower = reason_score_reviews[['Reviews']]\n",
    "reason_score_reviews['Reviews'] = reason_score_lower.applymap(str.lower)"
   ]
  },
  {
   "cell_type": "code",
   "execution_count": 16,
   "id": "4c40e76c",
   "metadata": {},
   "outputs": [
    {
     "data": {
      "text/html": [
       "<div>\n",
       "<style scoped>\n",
       "    .dataframe tbody tr th:only-of-type {\n",
       "        vertical-align: middle;\n",
       "    }\n",
       "\n",
       "    .dataframe tbody tr th {\n",
       "        vertical-align: top;\n",
       "    }\n",
       "\n",
       "    .dataframe thead th {\n",
       "        text-align: right;\n",
       "    }\n",
       "</style>\n",
       "<table border=\"1\" class=\"dataframe\">\n",
       "  <thead>\n",
       "    <tr style=\"text-align: right;\">\n",
       "      <th></th>\n",
       "      <th>REVIEW_ID</th>\n",
       "      <th>MEMBER_ID</th>\n",
       "      <th>Reviews</th>\n",
       "      <th>sentiment_label</th>\n",
       "    </tr>\n",
       "  </thead>\n",
       "  <tbody>\n",
       "    <tr>\n",
       "      <th>0</th>\n",
       "      <td>a2p1U000000Ro7KQAS</td>\n",
       "      <td>0011U00000rjF6eQAE</td>\n",
       "      <td>everything    dr gray listened and offered fee...</td>\n",
       "      <td>Negative</td>\n",
       "    </tr>\n",
       "    <tr>\n",
       "      <th>1</th>\n",
       "      <td>a2p3g000000L0RrAAK</td>\n",
       "      <td>0011U00000riHDHQA2</td>\n",
       "      <td>friendly and professional staff clean and calm...</td>\n",
       "      <td>Negative</td>\n",
       "    </tr>\n",
       "    <tr>\n",
       "      <th>2</th>\n",
       "      <td>a2p1U000000RoGYQA0</td>\n",
       "      <td>0011U00000rjxhBQAQ</td>\n",
       "      <td>i love that my doctor spends time with me and ...</td>\n",
       "      <td>Negative</td>\n",
       "    </tr>\n",
       "    <tr>\n",
       "      <th>3</th>\n",
       "      <td>a2p1U000000Rot5QAC</td>\n",
       "      <td>0011U00000rk4ksQAA</td>\n",
       "      <td>went in to have eye checked for possible corne...</td>\n",
       "      <td>Negative</td>\n",
       "    </tr>\n",
       "    <tr>\n",
       "      <th>4</th>\n",
       "      <td>a2p1U000000Ro5gQAC</td>\n",
       "      <td>0011U00000ri0GGQAY</td>\n",
       "      <td>addressed all my issues and concerns n a</td>\n",
       "      <td>Negative</td>\n",
       "    </tr>\n",
       "    <tr>\n",
       "      <th>...</th>\n",
       "      <td>...</td>\n",
       "      <td>...</td>\n",
       "      <td>...</td>\n",
       "      <td>...</td>\n",
       "    </tr>\n",
       "    <tr>\n",
       "      <th>2345</th>\n",
       "      <td>a2p4w000002OHIQAA4</td>\n",
       "      <td>0014w00003GHNtdAAH</td>\n",
       "      <td>provider availability does not reflect the sam...</td>\n",
       "      <td>Negative</td>\n",
       "    </tr>\n",
       "    <tr>\n",
       "      <th>2346</th>\n",
       "      <td>a2p4w000002OHLFAA4</td>\n",
       "      <td>0014w00002pPb4cAAC</td>\n",
       "      <td>convenientlistenedeye testing machine  don t u...</td>\n",
       "      <td>Negative</td>\n",
       "    </tr>\n",
       "    <tr>\n",
       "      <th>2347</th>\n",
       "      <td>a2p4w000002OHJOAA4</td>\n",
       "      <td>0011U00000riCDbQAM</td>\n",
       "      <td>dr  aponte and staff were not only knowledgeab...</td>\n",
       "      <td>Negative</td>\n",
       "    </tr>\n",
       "    <tr>\n",
       "      <th>2348</th>\n",
       "      <td>a2p4w000002OHKbAAO</td>\n",
       "      <td>0011U00000rilTfQAI</td>\n",
       "      <td>i feel like i receive the right amount of care...</td>\n",
       "      <td>Negative</td>\n",
       "    </tr>\n",
       "    <tr>\n",
       "      <th>2349</th>\n",
       "      <td>a2p4w000002OHJdAAO</td>\n",
       "      <td>0014w00003GG8OTAA1</td>\n",
       "      <td>dr  theobald is great  all the staff there is ...</td>\n",
       "      <td>Negative</td>\n",
       "    </tr>\n",
       "  </tbody>\n",
       "</table>\n",
       "<p>2350 rows × 4 columns</p>\n",
       "</div>"
      ],
      "text/plain": [
       "               REVIEW_ID           MEMBER_ID  \\\n",
       "0     a2p1U000000Ro7KQAS  0011U00000rjF6eQAE   \n",
       "1     a2p3g000000L0RrAAK  0011U00000riHDHQA2   \n",
       "2     a2p1U000000RoGYQA0  0011U00000rjxhBQAQ   \n",
       "3     a2p1U000000Rot5QAC  0011U00000rk4ksQAA   \n",
       "4     a2p1U000000Ro5gQAC  0011U00000ri0GGQAY   \n",
       "...                  ...                 ...   \n",
       "2345  a2p4w000002OHIQAA4  0014w00003GHNtdAAH   \n",
       "2346  a2p4w000002OHLFAA4  0014w00002pPb4cAAC   \n",
       "2347  a2p4w000002OHJOAA4  0011U00000riCDbQAM   \n",
       "2348  a2p4w000002OHKbAAO  0011U00000rilTfQAI   \n",
       "2349  a2p4w000002OHJdAAO  0014w00003GG8OTAA1   \n",
       "\n",
       "                                                Reviews sentiment_label  \n",
       "0     everything    dr gray listened and offered fee...        Negative  \n",
       "1     friendly and professional staff clean and calm...        Negative  \n",
       "2     i love that my doctor spends time with me and ...        Negative  \n",
       "3     went in to have eye checked for possible corne...        Negative  \n",
       "4              addressed all my issues and concerns n a        Negative  \n",
       "...                                                 ...             ...  \n",
       "2345  provider availability does not reflect the sam...        Negative  \n",
       "2346  convenientlistenedeye testing machine  don t u...        Negative  \n",
       "2347  dr  aponte and staff were not only knowledgeab...        Negative  \n",
       "2348  i feel like i receive the right amount of care...        Negative  \n",
       "2349  dr  theobald is great  all the staff there is ...        Negative  \n",
       "\n",
       "[2350 rows x 4 columns]"
      ]
     },
     "execution_count": 16,
     "metadata": {},
     "output_type": "execute_result"
    }
   ],
   "source": [
    "reason_score_reviews"
   ]
  },
  {
   "cell_type": "code",
   "execution_count": 17,
   "id": "d8a9b736",
   "metadata": {},
   "outputs": [
    {
     "data": {
      "text/plain": [
       "no                                                                                                                                                                                                                                                                                             3\n",
       "please tell us what we did well during your appointment please tell us what we didn     t do well during your appointment                                                                                                                                                                      2\n",
       "please tell us why   please tell us what we did well during your appointment    please tell us what we didn     t do well during your appointment                                                                                                                                              2\n",
       "this was my first visit and i was shockingly surprised   the staff was very friendly   i did not feel rushed and my concerns were not ignored   the nurse and doctor were very caring to my situation   i will absolutely visit again don     t change a thing  just keep up the good work     2\n",
       "everything    dr gray listened and offered feedback i never felt rushed i had an awesome appt  thank youvant think of anything                                                                                                                                                                 1\n",
       "                                                                                                                                                                                                                                                                                              ..\n",
       "no wait only one form to fill out and was only   page  spent lot of time taking family history and took down cocernslistenreally can not say                                                                                                                                                   1\n",
       "told me everything o need to do   was very knowledgeable but comforting that we can fix the problem                                                                                                                                                                                            1\n",
       "very good service  excellent doctors and nurses on time   efficient  doctor spent time and asked questions  doctor explained everything very well forgot to schedule a follow up at the end of my visit                                                                                        1\n",
       "courteous  professional and accessiblevery thorough and simplified discussionsfirst appointment can     t say what wasn     t done well without anything to compare    i felt comfortable                                                                                                      1\n",
       "dr  theobald is great  all the staff there is wonderful and i never feel rushed                                                                                                                                                                                                                1\n",
       "Name: Reviews, Length: 2345, dtype: int64"
      ]
     },
     "execution_count": 17,
     "metadata": {},
     "output_type": "execute_result"
    }
   ],
   "source": [
    "reason_score_reviews['Reviews'].value_counts()"
   ]
  },
  {
   "cell_type": "code",
   "execution_count": 20,
   "id": "0a7754cb",
   "metadata": {},
   "outputs": [],
   "source": [
    "reason_score_reviews.to_csv('Negative_data.csv',index = False)"
   ]
  },
  {
   "cell_type": "code",
   "execution_count": null,
   "id": "32c484a5",
   "metadata": {},
   "outputs": [],
   "source": []
  }
 ],
 "metadata": {
  "kernelspec": {
   "display_name": "Python 3 (ipykernel)",
   "language": "python",
   "name": "python3"
  },
  "language_info": {
   "codemirror_mode": {
    "name": "ipython",
    "version": 3
   },
   "file_extension": ".py",
   "mimetype": "text/x-python",
   "name": "python",
   "nbconvert_exporter": "python",
   "pygments_lexer": "ipython3",
   "version": "3.9.7"
  }
 },
 "nbformat": 4,
 "nbformat_minor": 5
}
