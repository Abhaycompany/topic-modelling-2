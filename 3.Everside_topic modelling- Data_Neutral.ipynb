{
 "cells": [
  {
   "cell_type": "code",
   "execution_count": 1,
   "id": "e8213a42",
   "metadata": {},
   "outputs": [],
   "source": [
    "import pandas as pd\n",
    "import numpy as np"
   ]
  },
  {
   "cell_type": "code",
   "execution_count": 2,
   "id": "5ca45ebb",
   "metadata": {},
   "outputs": [
    {
     "name": "stderr",
     "output_type": "stream",
     "text": [
      "C:\\Users\\ADMIN\\anaconda3\\lib\\site-packages\\IPython\\core\\interactiveshell.py:3444: DtypeWarning: Columns (3,6,33,34,35,106,107) have mixed types.Specify dtype option on import or set low_memory=False.\n",
      "  exec(code_obj, self.user_global_ns, self.user_ns)\n"
     ]
    }
   ],
   "source": [
    "data = pd.read_csv('final.csv')"
   ]
  },
  {
   "cell_type": "code",
   "execution_count": 3,
   "id": "85d0a108",
   "metadata": {},
   "outputs": [],
   "source": [
    "data = data.fillna('')"
   ]
  },
  {
   "cell_type": "code",
   "execution_count": 4,
   "id": "377bc46f",
   "metadata": {},
   "outputs": [
    {
     "data": {
      "text/plain": [
       "(29741, 108)"
      ]
     },
     "execution_count": 4,
     "metadata": {},
     "output_type": "execute_result"
    }
   ],
   "source": [
    "data.shape"
   ]
  },
  {
   "cell_type": "code",
   "execution_count": 5,
   "id": "9d2aa2df",
   "metadata": {},
   "outputs": [
    {
     "name": "stderr",
     "output_type": "stream",
     "text": [
      "C:\\Users\\ADMIN\\AppData\\Local\\Temp/ipykernel_15700/2645896183.py:1: PerformanceWarning: DataFrame is highly fragmented.  This is usually the result of calling `frame.insert` many times, which has poor performance.  Consider joining all columns at once using pd.concat(axis=1) instead.  To get a de-fragmented frame, use `newframe = frame.copy()`\n",
      "  data['Reviews'] = data['REASONNPSSCORE__C'].astype(str)+ data['WHATDIDWELLWITHAPP__C'].astype(str) + data['WHATDIDNOTWELLWITHAPP__C'].astype(str)\n"
     ]
    }
   ],
   "source": [
    "data['Reviews'] = data['REASONNPSSCORE__C'].astype(str)+ data['WHATDIDWELLWITHAPP__C'].astype(str) + data['WHATDIDNOTWELLWITHAPP__C'].astype(str)"
   ]
  },
  {
   "cell_type": "code",
   "execution_count": 6,
   "id": "1b3f566e",
   "metadata": {},
   "outputs": [],
   "source": [
    "data_new = data[['REVIEW_ID','MEMBER_ID','Reviews','sentiment_label']]"
   ]
  },
  {
   "cell_type": "code",
   "execution_count": 7,
   "id": "6b3611fe",
   "metadata": {},
   "outputs": [
    {
     "data": {
      "text/plain": [
       "Positive    16652\n",
       "Neutral     10739\n",
       "Negative     2312\n",
       "Extreme        38\n",
       "Name: sentiment_label, dtype: int64"
      ]
     },
     "execution_count": 7,
     "metadata": {},
     "output_type": "execute_result"
    }
   ],
   "source": [
    "data_new['sentiment_label'].value_counts()"
   ]
  },
  {
   "cell_type": "markdown",
   "id": "62e5860d",
   "metadata": {},
   "source": [
    "## Neutral data"
   ]
  },
  {
   "cell_type": "code",
   "execution_count": 8,
   "id": "cfa4602a",
   "metadata": {},
   "outputs": [
    {
     "data": {
      "text/html": [
       "<div>\n",
       "<style scoped>\n",
       "    .dataframe tbody tr th:only-of-type {\n",
       "        vertical-align: middle;\n",
       "    }\n",
       "\n",
       "    .dataframe tbody tr th {\n",
       "        vertical-align: top;\n",
       "    }\n",
       "\n",
       "    .dataframe thead th {\n",
       "        text-align: right;\n",
       "    }\n",
       "</style>\n",
       "<table border=\"1\" class=\"dataframe\">\n",
       "  <thead>\n",
       "    <tr style=\"text-align: right;\">\n",
       "      <th></th>\n",
       "      <th>REVIEW_ID</th>\n",
       "      <th>MEMBER_ID</th>\n",
       "      <th>Reviews</th>\n",
       "      <th>sentiment_label</th>\n",
       "    </tr>\n",
       "  </thead>\n",
       "  <tbody>\n",
       "    <tr>\n",
       "      <th>1</th>\n",
       "      <td>a2p3g000000LAe2AAG</td>\n",
       "      <td>0011U00000riuzfQAA</td>\n",
       "      <td></td>\n",
       "      <td>Neutral</td>\n",
       "    </tr>\n",
       "    <tr>\n",
       "      <th>2</th>\n",
       "      <td>a2p3g000000LAenAAG</td>\n",
       "      <td>0011U00000rieIYQAY</td>\n",
       "      <td></td>\n",
       "      <td>Neutral</td>\n",
       "    </tr>\n",
       "    <tr>\n",
       "      <th>3</th>\n",
       "      <td>a2p1U000000l8FEQAY</td>\n",
       "      <td>0011U00000rjZH9QAM</td>\n",
       "      <td>Answer all my questions</td>\n",
       "      <td>Neutral</td>\n",
       "    </tr>\n",
       "    <tr>\n",
       "      <th>6</th>\n",
       "      <td>a2p1U000000RvKnQAK</td>\n",
       "      <td>0011U00000rjGseQAE</td>\n",
       "      <td></td>\n",
       "      <td>Neutral</td>\n",
       "    </tr>\n",
       "    <tr>\n",
       "      <th>10</th>\n",
       "      <td>a2p3g000000pnkRAAQ</td>\n",
       "      <td>0011U00000rijxIQAQ</td>\n",
       "      <td></td>\n",
       "      <td>Neutral</td>\n",
       "    </tr>\n",
       "  </tbody>\n",
       "</table>\n",
       "</div>"
      ],
      "text/plain": [
       "             REVIEW_ID           MEMBER_ID                  Reviews  \\\n",
       "1   a2p3g000000LAe2AAG  0011U00000riuzfQAA                            \n",
       "2   a2p3g000000LAenAAG  0011U00000rieIYQAY                            \n",
       "3   a2p1U000000l8FEQAY  0011U00000rjZH9QAM  Answer all my questions   \n",
       "6   a2p1U000000RvKnQAK  0011U00000rjGseQAE                            \n",
       "10  a2p3g000000pnkRAAQ  0011U00000rijxIQAQ                            \n",
       "\n",
       "   sentiment_label  \n",
       "1          Neutral  \n",
       "2          Neutral  \n",
       "3          Neutral  \n",
       "6          Neutral  \n",
       "10         Neutral  "
      ]
     },
     "execution_count": 8,
     "metadata": {},
     "output_type": "execute_result"
    }
   ],
   "source": [
    "data_new = data_new[(data_new.sentiment_label==\"Neutral\")]\n",
    "data_new.head()"
   ]
  },
  {
   "cell_type": "code",
   "execution_count": 9,
   "id": "7b19be8d",
   "metadata": {},
   "outputs": [
    {
     "name": "stderr",
     "output_type": "stream",
     "text": [
      "C:\\Users\\ADMIN\\anaconda3\\lib\\site-packages\\pandas\\core\\frame.py:5238: SettingWithCopyWarning: \n",
      "A value is trying to be set on a copy of a slice from a DataFrame\n",
      "\n",
      "See the caveats in the documentation: https://pandas.pydata.org/pandas-docs/stable/user_guide/indexing.html#returning-a-view-versus-a-copy\n",
      "  return super().replace(\n"
     ]
    }
   ],
   "source": [
    "# Remove entries with no response and remove punctuations\n",
    "data_reason_score = data_new[data_new['Reviews'] != 'No Response']\n",
    "data_reason_score = data_reason_score.reset_index(drop=True)\n",
    "remove_punctuations_reason_score = data_reason_score[['Reviews']]\n",
    "remove_punctuations_reason_score.replace(\"[^a-zA-Z]\",\" \",regex=True, inplace=True)\n",
    "data_reason_score[['Reviews']] = remove_punctuations_reason_score[['Reviews']]"
   ]
  },
  {
   "cell_type": "code",
   "execution_count": 10,
   "id": "37b05d94",
   "metadata": {},
   "outputs": [],
   "source": [
    "# Removing missing values\n",
    "reason_score_reviews = data_reason_score\n",
    "reason_score_reviews = reason_score_reviews.dropna(subset=['Reviews'])\n",
    "reason_score_reviews = reason_score_reviews.reset_index(drop=True)"
   ]
  },
  {
   "cell_type": "code",
   "execution_count": 11,
   "id": "e483fd09",
   "metadata": {},
   "outputs": [],
   "source": [
    "data_reason_score = data[data['Reviews'] != 'No Response']\n",
    "data_reason_score = data_reason_score.reset_index(drop=True)\n",
    "remove_punctuations_reason_score = data_reason_score[['Reviews']]"
   ]
  },
  {
   "cell_type": "code",
   "execution_count": 12,
   "id": "2db99be3",
   "metadata": {},
   "outputs": [],
   "source": [
    "# Converting reviews to lower case\n",
    "reason_score_lower = reason_score_reviews[['Reviews']]\n",
    "reason_score_reviews['Reviews'] = reason_score_lower.applymap(str.lower)"
   ]
  },
  {
   "cell_type": "code",
   "execution_count": 13,
   "id": "4c40e76c",
   "metadata": {},
   "outputs": [
    {
     "data": {
      "text/html": [
       "<div>\n",
       "<style scoped>\n",
       "    .dataframe tbody tr th:only-of-type {\n",
       "        vertical-align: middle;\n",
       "    }\n",
       "\n",
       "    .dataframe tbody tr th {\n",
       "        vertical-align: top;\n",
       "    }\n",
       "\n",
       "    .dataframe thead th {\n",
       "        text-align: right;\n",
       "    }\n",
       "</style>\n",
       "<table border=\"1\" class=\"dataframe\">\n",
       "  <thead>\n",
       "    <tr style=\"text-align: right;\">\n",
       "      <th></th>\n",
       "      <th>REVIEW_ID</th>\n",
       "      <th>MEMBER_ID</th>\n",
       "      <th>Reviews</th>\n",
       "      <th>sentiment_label</th>\n",
       "    </tr>\n",
       "  </thead>\n",
       "  <tbody>\n",
       "    <tr>\n",
       "      <th>0</th>\n",
       "      <td>a2p3g000000LAe2AAG</td>\n",
       "      <td>0011U00000riuzfQAA</td>\n",
       "      <td></td>\n",
       "      <td>Neutral</td>\n",
       "    </tr>\n",
       "    <tr>\n",
       "      <th>1</th>\n",
       "      <td>a2p3g000000LAenAAG</td>\n",
       "      <td>0011U00000rieIYQAY</td>\n",
       "      <td></td>\n",
       "      <td>Neutral</td>\n",
       "    </tr>\n",
       "    <tr>\n",
       "      <th>2</th>\n",
       "      <td>a2p1U000000l8FEQAY</td>\n",
       "      <td>0011U00000rjZH9QAM</td>\n",
       "      <td>answer all my questions</td>\n",
       "      <td>Neutral</td>\n",
       "    </tr>\n",
       "    <tr>\n",
       "      <th>3</th>\n",
       "      <td>a2p1U000000RvKnQAK</td>\n",
       "      <td>0011U00000rjGseQAE</td>\n",
       "      <td></td>\n",
       "      <td>Neutral</td>\n",
       "    </tr>\n",
       "    <tr>\n",
       "      <th>4</th>\n",
       "      <td>a2p3g000000pnkRAAQ</td>\n",
       "      <td>0011U00000rijxIQAQ</td>\n",
       "      <td></td>\n",
       "      <td>Neutral</td>\n",
       "    </tr>\n",
       "    <tr>\n",
       "      <th>...</th>\n",
       "      <td>...</td>\n",
       "      <td>...</td>\n",
       "      <td>...</td>\n",
       "      <td>...</td>\n",
       "    </tr>\n",
       "    <tr>\n",
       "      <th>10734</th>\n",
       "      <td>a2p4w000002OHIpAAO</td>\n",
       "      <td>0014w00002pQBXjAAO</td>\n",
       "      <td></td>\n",
       "      <td>Neutral</td>\n",
       "    </tr>\n",
       "    <tr>\n",
       "      <th>10735</th>\n",
       "      <td>a2p4w000002OHMDAA4</td>\n",
       "      <td>0011U00000rjnAeQAI</td>\n",
       "      <td>the doctor is attentive and explains things in...</td>\n",
       "      <td>Neutral</td>\n",
       "    </tr>\n",
       "    <tr>\n",
       "      <th>10736</th>\n",
       "      <td>a2p4w000002OHM8AAO</td>\n",
       "      <td>0014w00003GHPU0AAP</td>\n",
       "      <td>dr  humphrey explained her findings  i have te...</td>\n",
       "      <td>Neutral</td>\n",
       "    </tr>\n",
       "    <tr>\n",
       "      <th>10737</th>\n",
       "      <td>a2p4w000002OHKMAA4</td>\n",
       "      <td>0014w00003GEk6SAAT</td>\n",
       "      <td>short to the point</td>\n",
       "      <td>Neutral</td>\n",
       "    </tr>\n",
       "    <tr>\n",
       "      <th>10738</th>\n",
       "      <td>a2p4w000002OHMmAAO</td>\n",
       "      <td>0014w00003GEDmCAAX</td>\n",
       "      <td></td>\n",
       "      <td>Neutral</td>\n",
       "    </tr>\n",
       "  </tbody>\n",
       "</table>\n",
       "<p>10739 rows × 4 columns</p>\n",
       "</div>"
      ],
      "text/plain": [
       "                REVIEW_ID           MEMBER_ID  \\\n",
       "0      a2p3g000000LAe2AAG  0011U00000riuzfQAA   \n",
       "1      a2p3g000000LAenAAG  0011U00000rieIYQAY   \n",
       "2      a2p1U000000l8FEQAY  0011U00000rjZH9QAM   \n",
       "3      a2p1U000000RvKnQAK  0011U00000rjGseQAE   \n",
       "4      a2p3g000000pnkRAAQ  0011U00000rijxIQAQ   \n",
       "...                   ...                 ...   \n",
       "10734  a2p4w000002OHIpAAO  0014w00002pQBXjAAO   \n",
       "10735  a2p4w000002OHMDAA4  0011U00000rjnAeQAI   \n",
       "10736  a2p4w000002OHM8AAO  0014w00003GHPU0AAP   \n",
       "10737  a2p4w000002OHKMAA4  0014w00003GEk6SAAT   \n",
       "10738  a2p4w000002OHMmAAO  0014w00003GEDmCAAX   \n",
       "\n",
       "                                                 Reviews sentiment_label  \n",
       "0                                                                Neutral  \n",
       "1                                                                Neutral  \n",
       "2                                answer all my questions         Neutral  \n",
       "3                                                                Neutral  \n",
       "4                                                                Neutral  \n",
       "...                                                  ...             ...  \n",
       "10734                                                            Neutral  \n",
       "10735  the doctor is attentive and explains things in...         Neutral  \n",
       "10736  dr  humphrey explained her findings  i have te...         Neutral  \n",
       "10737                                 short to the point         Neutral  \n",
       "10738                                                            Neutral  \n",
       "\n",
       "[10739 rows x 4 columns]"
      ]
     },
     "execution_count": 13,
     "metadata": {},
     "output_type": "execute_result"
    }
   ],
   "source": [
    "reason_score_reviews"
   ]
  },
  {
   "cell_type": "code",
   "execution_count": 14,
   "id": "d8a9b736",
   "metadata": {},
   "outputs": [
    {
     "data": {
      "text/plain": [
       "                                            7912\n",
       "listened                                      35\n",
       "physical                                      12\n",
       "nothing                                       10\n",
       "communication                                  9\n",
       "                                            ... \n",
       "listened and not judged                        1\n",
       "explain the treatment processnothing           1\n",
       "very polite and prompt nothing                 1\n",
       "the individualized approach to my needs        1\n",
       "short to the point                             1\n",
       "Name: Reviews, Length: 2539, dtype: int64"
      ]
     },
     "execution_count": 14,
     "metadata": {},
     "output_type": "execute_result"
    }
   ],
   "source": [
    "reason_score_reviews['Reviews'].value_counts()"
   ]
  },
  {
   "cell_type": "code",
   "execution_count": 15,
   "id": "0a7754cb",
   "metadata": {},
   "outputs": [],
   "source": [
    "reason_score_reviews.to_csv('Neutral_data.csv',index = False)"
   ]
  },
  {
   "cell_type": "code",
   "execution_count": null,
   "id": "32c484a5",
   "metadata": {},
   "outputs": [],
   "source": []
  }
 ],
 "metadata": {
  "kernelspec": {
   "display_name": "Python 3 (ipykernel)",
   "language": "python",
   "name": "python3"
  },
  "language_info": {
   "codemirror_mode": {
    "name": "ipython",
    "version": 3
   },
   "file_extension": ".py",
   "mimetype": "text/x-python",
   "name": "python",
   "nbconvert_exporter": "python",
   "pygments_lexer": "ipython3",
   "version": "3.9.7"
  }
 },
 "nbformat": 4,
 "nbformat_minor": 5
}
